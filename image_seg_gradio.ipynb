{
  "nbformat": 4,
  "nbformat_minor": 0,
  "metadata": {
    "colab": {
      "name": "image_seg_gradio.ipynb",
      "provenance": [],
      "collapsed_sections": [],
      "include_colab_link": true
    },
    "kernelspec": {
      "name": "python3",
      "display_name": "Python 3"
    },
    "language_info": {
      "name": "python"
    },
    "accelerator": "GPU"
  },
  "cells": [
    {
      "cell_type": "markdown",
      "metadata": {
        "id": "view-in-github",
        "colab_type": "text"
      },
      "source": [
        "<a href=\"https://colab.research.google.com/github/shankch/semantic_segmentation/blob/main/image_seg_gradio.ipynb\" target=\"_parent\"><img src=\"https://colab.research.google.com/assets/colab-badge.svg\" alt=\"Open In Colab\"/></a>"
      ]
    },
    {
      "cell_type": "code",
      "metadata": {
        "id": "iPaMQmVFZjP5"
      },
      "source": [
        "from PIL import Image\n",
        "import matplotlib.pyplot as plt\n",
        "import torchvision\n",
        "import torch\n",
        "import torchvision.transforms as T\n",
        "from torchvision import models\n",
        "import numpy as np\n",
        "import gradio as gr"
      ],
      "execution_count": 21,
      "outputs": []
    },
    {
      "cell_type": "code",
      "metadata": {
        "id": "cbCq-aFMeVhS"
      },
      "source": [
        "def decode_segmap(image, nc=21):\n",
        "  \n",
        "  label_colors = np.array([(0, 0, 0),  # 0=background\n",
        "               # 1=aeroplane, 2=bicycle, 3=bird, 4=boat, 5=bottle\n",
        "               (128, 0, 0), (0, 128, 0), (128, 128, 0), (0, 0, 128), (128, 0, 128),\n",
        "               # 6=bus, 7=car, 8=cat, 9=chair, 10=cow\n",
        "               (0, 128, 128), (128, 128, 128), (64, 0, 0), (192, 0, 0), (64, 128, 0),\n",
        "               # 11=dining table, 12=dog, 13=horse, 14=motorbike, 15=person\n",
        "               (192, 128, 0), (64, 0, 128), (192, 0, 128), (64, 128, 128), (192, 128, 128),\n",
        "               # 16=potted plant, 17=sheep, 18=sofa, 19=train, 20=tv/monitor\n",
        "               (0, 64, 0), (128, 64, 0), (0, 192, 0), (128, 192, 0), (0, 64, 128)])\n",
        "\n",
        "  r = np.zeros_like(image).astype(np.uint8)\n",
        "  g = np.zeros_like(image).astype(np.uint8)\n",
        "  b = np.zeros_like(image).astype(np.uint8)\n",
        "  \n",
        "  for l in range(0, nc):\n",
        "    idx = image == l\n",
        "    r[idx] = label_colors[l, 0]\n",
        "    g[idx] = label_colors[l, 1]\n",
        "    b[idx] = label_colors[l, 2]\n",
        "    \n",
        "  rgb = np.stack([r, g, b], axis=2)\n",
        "  return rgb\n"
      ],
      "execution_count": 22,
      "outputs": []
    },
    {
      "cell_type": "code",
      "metadata": {
        "id": "XBnKn4xyeaRK"
      },
      "source": [
        "import cv2\n",
        "\n",
        "def segment(img, show_orig=True, dev='cuda'):\n",
        "  net = models.segmentation.deeplabv3_resnet101(pretrained=1).eval()\n",
        "\n",
        "  to_pil_image = torchvision.transforms.ToPILImage()\n",
        "  img = to_pil_image(img)\n",
        "  #img = Image.open(path)\n",
        "  #if show_orig: plt.imshow(img); plt.axis('off'); plt.show()\n",
        "  # Comment the Resize and CenterCrop for better inference results\n",
        "  trf = T.Compose([T.Resize(640), \n",
        "                   #T.CenterCrop(224), \n",
        "                   T.ToTensor(), \n",
        "                   T.Normalize(mean = [0.485, 0.456, 0.406], \n",
        "                               std = [0.229, 0.224, 0.225])])\n",
        "  inp = trf(img).unsqueeze(0).to(dev)\n",
        "  out = net.to(dev)(inp)['out']\n",
        "  om = torch.argmax(out.squeeze(), dim=0).detach().cpu().numpy()\n",
        "  rgb = decode_segmap(om)\n",
        "  return rgb\n",
        "  #plt.imshow(rgb); plt.axis('off'); #plt.show()\n",
        "\n",
        "#fcn = models.segmentation.fcn_resnet101(pretrained=True).eval()\n",
        "#dlab = models.segmentation.deeplabv3_resnet101(pretrained=1).eval()\n",
        "\n",
        "#img = Image.open(\"img1.jpg\")\n",
        "#img = cv2.imread(\"img1.jpg\")\n",
        "#segment(img)"
      ],
      "execution_count": null,
      "outputs": []
    },
    {
      "cell_type": "code",
      "metadata": {
        "id": "n6FhzZZWfwyI"
      },
      "source": [
        "gr_interface = gr.Interface(fn=segment, inputs=gr.inputs.Image(shape=(1080, 1080)), outputs=\"image\")\n",
        "gr_interface.launch(debug=True)"
      ],
      "execution_count": null,
      "outputs": []
    }
  ]
}
